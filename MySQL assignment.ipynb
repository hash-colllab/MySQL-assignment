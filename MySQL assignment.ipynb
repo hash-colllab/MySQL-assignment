{
  "metadata": {
    "kernelspec": {
      "name": "python",
      "display_name": "Python (Pyodide)",
      "language": "python"
    },
    "language_info": {
      "codemirror_mode": {
        "name": "python",
        "version": 3
      },
      "file_extension": ".py",
      "mimetype": "text/x-python",
      "name": "python",
      "nbconvert_exporter": "python",
      "pygments_lexer": "ipython3",
      "version": "3.8"
    }
  },
  "nbformat_minor": 4,
  "nbformat": 4,
  "cells": [
    {
      "cell_type": "code",
      "source": "# ANS 1:- A database is an organized collection of data stored in a computer system and usually controlled by a\n# database management system (DBMS). The data in common databases is modeled in tables, making querying and processing\n# efficient. Structured query language (SQL) is commonly used for data querying and writing.",
      "metadata": {
        "trusted": true
      },
      "outputs": [],
      "execution_count": 1
    },
    {
      "cell_type": "code",
      "source": "# DIFFERENCE BETWEEN SQL AND NOSQL\n# SQL : RELATIONAL DATABASE MANAGEMENT SYSTEM (RDBMS)\n# These databases have fixed or static or predefined schema\n# These databases are not suited for hierarchical data storage.\n# These databases are best suited for complex queries\n# Vertically Scalable\n# NOSQL : Non-relational or distributed database system.\n# They have a dynamic schema\n# These databases are best suited for hierarchical data storage.\n# These databases are not so good for complex queries\n# Horizontally scalable",
      "metadata": {
        "trusted": true
      },
      "outputs": [],
      "execution_count": 5
    },
    {
      "cell_type": "code",
      "source": "# ANS 2:-\n# DDL or Data Definition Language actually consists of the SQL commands that can be used to define the database \n# schema. It simply deals with descriptions of the database schema and is used to create and modify the structure of\n# database objects in the database.\n\n# CREATE : Create database or its objects (table, index, function, views, store procedure, and triggers)\t\n# DROP : Delete objects from the database\n# ALTER : Alter the structure of the database\n# TRUNCATE : Remove all records from a table, including all spaces allocated for the records are removed",
      "metadata": {
        "trusted": true
      },
      "outputs": [],
      "execution_count": 6
    },
    {
      "cell_type": "code",
      "source": "# ANS 3:- \n# The SQL commands that deal with the manipulation of data present in the database belong to DML or Data Manipulation\n# Language and this includes most of the SQL statements. \n# INSERT : Insert data into a table\n# UPDATE : Update existing data within a table\n# DELETE : Delete records from a database table",
      "metadata": {
        "trusted": true
      },
      "outputs": [],
      "execution_count": 7
    },
    {
      "cell_type": "code",
      "source": "# ANS 4 :-\n# DQL (Data Query Language), DQL statements are used for performing queries on the data within schema objects.\n# SELECT : It is used to retrieve data from the database",
      "metadata": {
        "trusted": true
      },
      "outputs": [],
      "execution_count": 8
    },
    {
      "cell_type": "code",
      "source": "# ANS 5:-\n# A primary key is used to ensure that data in the specific column is unique. A column cannot have NULL values.\n# Example: STUD_NO, as well as STUD_PHONE both, are candidate keys for relation STUDENT but STUD_NO can be chosen\n# as the primary key (only one out of many candidate keys).\n# A foreign key is a column or group of columns in a relational database table that provides a link between data\n# in two tables.\n# Example: STUD_NO in STUDENT_COURSE is a foreign key to STUD_NO in STUDENT relation. ",
      "metadata": {
        "trusted": true
      },
      "outputs": [],
      "execution_count": 9
    },
    {
      "cell_type": "code",
      "source": "# ANS 6:- import mysql.connector\n\nmydb = mysql.connector.connect(\n  host=\"localhost\",\n  user=\"abc\",\n  password=\"password\"\n)\nmycursor = mydb.cursor()\nmycursor.execute(\"CREATE DATABASE if not exists my_database\")\nmydb.close()\n\nimport mysql.connector\nmydb = mysql.connector.connect(\n  host=\"localhost\",\n  user=\"abc\",\n  password=\"password\"\n)\nprint(mydb)\nmycursor = mydb.cursor()\nmycursor.execute(\"CREATE Table my_database.my_table(c1 VARCHAR(20) , c2 INT)\")\nmydb.close()",
      "metadata": {
        "trusted": true
      },
      "outputs": [
        {
          "ename": "<class 'NameError'>",
          "evalue": "name 'mysql' is not defined",
          "traceback": [
            "\u001b[0;31m---------------------------------------------------------------------------\u001b[0m",
            "\u001b[0;31mNameError\u001b[0m                                 Traceback (most recent call last)",
            "Cell \u001b[0;32mIn[10], line 3\u001b[0m\n\u001b[1;32m      1\u001b[0m \u001b[38;5;66;03m# ANS 6:- import mysql.connector\u001b[39;00m\n\u001b[0;32m----> 3\u001b[0m mydb \u001b[38;5;241m=\u001b[39m \u001b[43mmysql\u001b[49m\u001b[38;5;241m.\u001b[39mconnector\u001b[38;5;241m.\u001b[39mconnect(\n\u001b[1;32m      4\u001b[0m   host\u001b[38;5;241m=\u001b[39m\u001b[38;5;124m\"\u001b[39m\u001b[38;5;124mlocalhost\u001b[39m\u001b[38;5;124m\"\u001b[39m,\n\u001b[1;32m      5\u001b[0m   user\u001b[38;5;241m=\u001b[39m\u001b[38;5;124m\"\u001b[39m\u001b[38;5;124mabc\u001b[39m\u001b[38;5;124m\"\u001b[39m,\n\u001b[1;32m      6\u001b[0m   password\u001b[38;5;241m=\u001b[39m\u001b[38;5;124m\"\u001b[39m\u001b[38;5;124mpassword\u001b[39m\u001b[38;5;124m\"\u001b[39m\n\u001b[1;32m      7\u001b[0m )\n\u001b[1;32m      8\u001b[0m mycursor \u001b[38;5;241m=\u001b[39m mydb\u001b[38;5;241m.\u001b[39mcursor()\n\u001b[1;32m      9\u001b[0m mycursor\u001b[38;5;241m.\u001b[39mexecute(\u001b[38;5;124m\"\u001b[39m\u001b[38;5;124mCREATE DATABASE if not exists my_database\u001b[39m\u001b[38;5;124m\"\u001b[39m)\n",
            "\u001b[0;31mNameError\u001b[0m: name 'mysql' is not defined"
          ],
          "output_type": "error"
        }
      ],
      "execution_count": 10
    },
    {
      "cell_type": "code",
      "source": "",
      "metadata": {
        "trusted": true
      },
      "outputs": [],
      "execution_count": null
    }
  ]
}